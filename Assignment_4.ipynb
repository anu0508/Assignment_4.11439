{
 "cells": [
  {
   "cell_type": "markdown",
   "metadata": {},
   "source": [
    "<h1>Task 1</h1>"
   ]
  },
  {
   "cell_type": "markdown",
   "metadata": {},
   "source": [
    "## 1.Given a sequence of n values x1, x2, ..., xn and a window size k>0, the k-th moving average of the given sequence is defined as follows:\n",
    "## The moving average sequence has n-k+1 elements as shown below.\n",
    "## The moving averages with k=4 of a ten-value sequence (n=10) is shown below:\n"
   ]
  },
  {
   "cell_type": "code",
   "execution_count": 19,
   "metadata": {},
   "outputs": [
    {
     "name": "stdout",
     "output_type": "stream",
     "text": [
      "[25.0, 35.0, 45.0, 55.0, 65.0, 75.0, 85.0]\n"
     ]
    }
   ],
   "source": [
    "# import library\n",
    "import numpy as np \n",
    "import pandas as pd\n",
    "\n",
    "# defining a function as cal_movingObj\n",
    "\n",
    "def cal_movingObj(k):\n",
    "    \n",
    "    n=np.array([10,20,30,40,50,60,70,80,90,100]) # array with numbers from 10 to 1000\n",
    "    \n",
    "    list2=[] #empty list to be used later on\n",
    "    \n",
    "    for j in range(len(n)-k+1):\n",
    "        list1=[]\n",
    "        for i in range(j,j+k):\n",
    "            list1.append(n[i])\n",
    "        mo=sum(list1)/k       \n",
    "        list2.append(mo) # appending moving objects to new list\n",
    "    return(list2)\n",
    "\n",
    "\n",
    "# calling function for K=4\n",
    "print(cal_movingObj(4))"
   ]
  },
  {
   "cell_type": "code",
   "execution_count": 20,
   "metadata": {},
   "outputs": [
    {
     "name": "stdout",
     "output_type": "stream",
     "text": [
      "[20.0, 30.0, 40.0, 50.0, 60.0, 70.0, 80.0, 90.0]\n"
     ]
    }
   ],
   "source": [
    "#As per task calling function for k=3\n",
    "print(cal_movingObj(3))\n",
    "\n"
   ]
  },
  {
   "cell_type": "markdown",
   "metadata": {},
   "source": [
    "## Task 2:\n",
    "## 1.\n",
    "## How-to-count-distance-to-the-previous-zero For each value, count the difference back to the previous zero (or the start of the Series,whichever is closer)\n",
    "### create a new column 'Y'\n",
    "### Consider a DataFrame df where there is an integer column 'X'\n",
    "### df = pd.DataFrame({'X': [7, 2, 0, 3, 4, 2, 5, 0, 3, 4]})"
   ]
  },
  {
   "cell_type": "code",
   "execution_count": 21,
   "metadata": {},
   "outputs": [],
   "source": [
    "df= pd.DataFrame({'X':[7,2,0,3,4,2,5,0,3,4]}) # dataframe created as per task"
   ]
  },
  {
   "cell_type": "code",
   "execution_count": 22,
   "metadata": {},
   "outputs": [
    {
     "data": {
      "text/plain": [
       "array([0, 1, 2, 3, 4, 5, 6, 7, 8, 9], dtype=int64)"
      ]
     },
     "execution_count": 22,
     "metadata": {},
     "output_type": "execute_result"
    }
   ],
   "source": [
    "df.index.values"
   ]
  },
  {
   "cell_type": "code",
   "execution_count": 23,
   "metadata": {},
   "outputs": [
    {
     "name": "stdout",
     "output_type": "stream",
     "text": [
      "[0, 1, 0, 1, 2, 3, 4, 0, 1, 2]\n"
     ]
    }
   ],
   "source": [
    "#empty list \n",
    "diff=[]\n",
    "temp=0 # temporary variable \n",
    "for index,i in df.iterrows():\n",
    "# here we check first condition that if element of the iterable is 0 then same should be appended to the new list    \n",
    "    if i['X']==0:\n",
    "        temp=index\n",
    "        diff.append(i['X'])\n",
    "    else:\n",
    "        if index>=temp: # here we check index is greater than temp than difference should be apended.\n",
    "            diff.append(index-temp)\n",
    "        else:\n",
    "            diff.append(index) # if index is less than temp than index should be appended\n",
    "print(diff)        "
   ]
  },
  {
   "cell_type": "code",
   "execution_count": 24,
   "metadata": {},
   "outputs": [
    {
     "data": {
      "text/html": [
       "<div>\n",
       "<style scoped>\n",
       "    .dataframe tbody tr th:only-of-type {\n",
       "        vertical-align: middle;\n",
       "    }\n",
       "\n",
       "    .dataframe tbody tr th {\n",
       "        vertical-align: top;\n",
       "    }\n",
       "\n",
       "    .dataframe thead th {\n",
       "        text-align: right;\n",
       "    }\n",
       "</style>\n",
       "<table border=\"1\" class=\"dataframe\">\n",
       "  <thead>\n",
       "    <tr style=\"text-align: right;\">\n",
       "      <th></th>\n",
       "      <th>X</th>\n",
       "      <th>out</th>\n",
       "    </tr>\n",
       "  </thead>\n",
       "  <tbody>\n",
       "    <tr>\n",
       "      <th>0</th>\n",
       "      <td>7</td>\n",
       "      <td>0</td>\n",
       "    </tr>\n",
       "    <tr>\n",
       "      <th>1</th>\n",
       "      <td>2</td>\n",
       "      <td>1</td>\n",
       "    </tr>\n",
       "    <tr>\n",
       "      <th>2</th>\n",
       "      <td>0</td>\n",
       "      <td>0</td>\n",
       "    </tr>\n",
       "    <tr>\n",
       "      <th>3</th>\n",
       "      <td>3</td>\n",
       "      <td>1</td>\n",
       "    </tr>\n",
       "    <tr>\n",
       "      <th>4</th>\n",
       "      <td>4</td>\n",
       "      <td>2</td>\n",
       "    </tr>\n",
       "    <tr>\n",
       "      <th>5</th>\n",
       "      <td>2</td>\n",
       "      <td>3</td>\n",
       "    </tr>\n",
       "    <tr>\n",
       "      <th>6</th>\n",
       "      <td>5</td>\n",
       "      <td>4</td>\n",
       "    </tr>\n",
       "    <tr>\n",
       "      <th>7</th>\n",
       "      <td>0</td>\n",
       "      <td>0</td>\n",
       "    </tr>\n",
       "    <tr>\n",
       "      <th>8</th>\n",
       "      <td>3</td>\n",
       "      <td>1</td>\n",
       "    </tr>\n",
       "    <tr>\n",
       "      <th>9</th>\n",
       "      <td>4</td>\n",
       "      <td>2</td>\n",
       "    </tr>\n",
       "  </tbody>\n",
       "</table>\n",
       "</div>"
      ],
      "text/plain": [
       "   X  out\n",
       "0  7    0\n",
       "1  2    1\n",
       "2  0    0\n",
       "3  3    1\n",
       "4  4    2\n",
       "5  2    3\n",
       "6  5    4\n",
       "7  0    0\n",
       "8  3    1\n",
       "9  4    2"
      ]
     },
     "execution_count": 24,
     "metadata": {},
     "output_type": "execute_result"
    }
   ],
   "source": [
    "df['out']=pd.Series(diff,dtype=int) # creating dataframe using input and output\n",
    "df"
   ]
  },
  {
   "cell_type": "markdown",
   "metadata": {},
   "source": [
    "<h1>2.\n",
    "Create a DatetimeIndex that contains each business day of 2015 and use it to index a Series of\n",
    "random numbers.</h1>"
   ]
  },
  {
   "cell_type": "code",
   "execution_count": 26,
   "metadata": {},
   "outputs": [],
   "source": [
    "# import package for datetime \n",
    "from datetime import datetime \n",
    "# datetime parser\n",
    "from dateutil import parser\n",
    "\n",
    "#creating range of dates for 201\n",
    "ind_date= pd.bdate_range('2015-01-01','2015-12-31') "
   ]
  },
  {
   "cell_type": "code",
   "execution_count": 27,
   "metadata": {},
   "outputs": [
    {
     "data": {
      "text/plain": [
       "2015-01-01    0.374852\n",
       "2015-01-02    0.706232\n",
       "2015-01-05   -0.071562\n",
       "2015-01-06    1.374818\n",
       "2015-01-07    0.548382\n",
       "2015-01-08   -0.975981\n",
       "2015-01-09   -1.294499\n",
       "2015-01-12    0.814773\n",
       "2015-01-13    0.108246\n",
       "2015-01-14    0.128508\n",
       "2015-01-15    1.500501\n",
       "2015-01-16    0.279367\n",
       "2015-01-19   -0.787236\n",
       "2015-01-20   -1.084826\n",
       "2015-01-21   -0.544826\n",
       "2015-01-22   -0.752377\n",
       "2015-01-23    0.149113\n",
       "2015-01-26   -0.347257\n",
       "2015-01-27   -1.659479\n",
       "2015-01-28    0.042066\n",
       "2015-01-29   -0.585426\n",
       "2015-01-30    0.402858\n",
       "2015-02-02    0.149988\n",
       "2015-02-03   -0.280148\n",
       "2015-02-04    0.355894\n",
       "2015-02-05   -0.050347\n",
       "2015-02-06   -0.396356\n",
       "2015-02-09    0.585491\n",
       "2015-02-10    0.473495\n",
       "2015-02-11   -0.741710\n",
       "                ...   \n",
       "2015-11-20    0.429113\n",
       "2015-11-23    0.517336\n",
       "2015-11-24    0.444024\n",
       "2015-11-25   -1.027559\n",
       "2015-11-26    0.409564\n",
       "2015-11-27    0.917977\n",
       "2015-11-30    0.279992\n",
       "2015-12-01   -2.161950\n",
       "2015-12-02    1.243936\n",
       "2015-12-03   -0.789498\n",
       "2015-12-04    0.132055\n",
       "2015-12-07    1.955490\n",
       "2015-12-08   -0.231921\n",
       "2015-12-09    0.022077\n",
       "2015-12-10    0.344790\n",
       "2015-12-11   -1.031928\n",
       "2015-12-14    0.476217\n",
       "2015-12-15    0.361474\n",
       "2015-12-16    0.620812\n",
       "2015-12-17    0.626479\n",
       "2015-12-18    2.163595\n",
       "2015-12-21    0.035322\n",
       "2015-12-22    0.096097\n",
       "2015-12-23   -0.736558\n",
       "2015-12-24    1.540226\n",
       "2015-12-25    0.084948\n",
       "2015-12-28   -0.084520\n",
       "2015-12-29   -0.425371\n",
       "2015-12-30   -0.099332\n",
       "2015-12-31   -0.414674\n",
       "Freq: B, Length: 261, dtype: float64"
      ]
     },
     "execution_count": 27,
     "metadata": {},
     "output_type": "execute_result"
    }
   ],
   "source": [
    "random_numbers=pd.Series(np.random.randn(len(ind_date)),index=ind_date) # indexed dates with normal distributed random numbers\n",
    "random_numbers"
   ]
  },
  {
   "cell_type": "markdown",
   "metadata": {},
   "source": [
    "<h1>3.\n",
    "Find the sum of the values in s for every Wednesday</h1>"
   ]
  },
  {
   "cell_type": "code",
   "execution_count": 28,
   "metadata": {},
   "outputs": [],
   "source": [
    "# for above random dataset checking the sum of all the numbers occured on Wednesday\n",
    "s=random_numbers[random_numbers.index.weekday==2].sum()"
   ]
  },
  {
   "cell_type": "code",
   "execution_count": 29,
   "metadata": {},
   "outputs": [
    {
     "name": "stdout",
     "output_type": "stream",
     "text": [
      "2.4637883406879424\n"
     ]
    }
   ],
   "source": [
    "print(s) #print output"
   ]
  },
  {
   "cell_type": "markdown",
   "metadata": {},
   "source": [
    "<h1>4.Average For each calendar month</h1>"
   ]
  },
  {
   "cell_type": "code",
   "execution_count": 30,
   "metadata": {},
   "outputs": [
    {
     "data": {
      "text/plain": [
       "2015-01-31   -0.076080\n",
       "2015-02-28    0.018722\n",
       "2015-03-31    0.015096\n",
       "2015-04-30   -0.025278\n",
       "2015-05-31    0.205989\n",
       "2015-06-30    0.043304\n",
       "2015-07-31   -0.114869\n",
       "2015-08-31   -0.044463\n",
       "2015-09-30    0.081660\n",
       "2015-10-31   -0.135397\n",
       "2015-11-30    0.198539\n",
       "2015-12-31    0.162077\n",
       "Freq: M, dtype: float64"
      ]
     },
     "execution_count": 30,
     "metadata": {},
     "output_type": "execute_result"
    }
   ],
   "source": [
    "random_numbers.groupby(pd.Grouper(freq='M')).mean() #calender months with each months mean values"
   ]
  },
  {
   "cell_type": "code",
   "execution_count": 31,
   "metadata": {},
   "outputs": [
    {
     "data": {
      "text/plain": [
       "1    -0.076080\n",
       "2     0.018722\n",
       "3     0.015096\n",
       "4    -0.025278\n",
       "5     0.205989\n",
       "6     0.043304\n",
       "7    -0.114869\n",
       "8    -0.044463\n",
       "9     0.081660\n",
       "10   -0.135397\n",
       "11    0.198539\n",
       "12    0.162077\n",
       "dtype: float64"
      ]
     },
     "execution_count": 31,
     "metadata": {},
     "output_type": "execute_result"
    }
   ],
   "source": [
    "random_numbers.groupby(by=[random_numbers.index.month]).mean()#here only mean values for each calender month with only month no."
   ]
  },
  {
   "cell_type": "markdown",
   "metadata": {},
   "source": [
    "<h1>5.\n",
    "For each group of four consecutive calendar months in s, find the date on which the highest\n",
    "value occurred.</h1>"
   ]
  },
  {
   "cell_type": "code",
   "execution_count": 32,
   "metadata": {},
   "outputs": [
    {
     "data": {
      "text/plain": [
       "Timestamp('2015-03-05 00:00:00', freq='B')"
      ]
     },
     "execution_count": 32,
     "metadata": {},
     "output_type": "execute_result"
    }
   ],
   "source": [
    "random_numbers['2015-01-01':'2015-04-30'].idxmax() # for first 4 months"
   ]
  },
  {
   "cell_type": "code",
   "execution_count": 33,
   "metadata": {},
   "outputs": [
    {
     "data": {
      "text/plain": [
       "Timestamp('2015-05-06 00:00:00', freq='B')"
      ]
     },
     "execution_count": 33,
     "metadata": {},
     "output_type": "execute_result"
    }
   ],
   "source": [
    "random_numbers['2015-05-01':'2015-08-31'].idxmax()# for second 4 months May to August"
   ]
  },
  {
   "cell_type": "code",
   "execution_count": 34,
   "metadata": {},
   "outputs": [
    {
     "data": {
      "text/plain": [
       "Timestamp('2015-12-18 00:00:00', freq='B')"
      ]
     },
     "execution_count": 34,
     "metadata": {},
     "output_type": "execute_result"
    }
   ],
   "source": [
    "random_numbers['2015-09-01':'2015-12-31'].idxmax() # for third 4 months Sep to December"
   ]
  },
  {
   "cell_type": "code",
   "execution_count": null,
   "metadata": {},
   "outputs": [],
   "source": []
  }
 ],
 "metadata": {
  "kernelspec": {
   "display_name": "Python 3",
   "language": "python",
   "name": "python3"
  },
  "language_info": {
   "codemirror_mode": {
    "name": "ipython",
    "version": 3
   },
   "file_extension": ".py",
   "mimetype": "text/x-python",
   "name": "python",
   "nbconvert_exporter": "python",
   "pygments_lexer": "ipython3",
   "version": "3.6.4"
  }
 },
 "nbformat": 4,
 "nbformat_minor": 2
}
